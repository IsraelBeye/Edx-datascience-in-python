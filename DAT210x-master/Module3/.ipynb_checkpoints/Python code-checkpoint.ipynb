{
 "cells": [
  {
   "cell_type": "code",
   "execution_count": 1,
   "metadata": {
    "collapsed": true
   },
   "outputs": [],
   "source": [
    "gencode = {\"TTT\":\"F\",\"TTC\":\"F\",\"TTA\":\"L\",\"TTG\":\"L\",\"TCT\":\"S\",\"TCC\":\"S\",\n",
    "              \"TCA\":\"S\",\"TCG\":\"S\", \"TAT\":\"Y\",\"TAC\":\"Y\",\"TAA\":\"*\",\"TAG\":\"*\",\n",
    "              \"TGT\":\"C\",\"TGC\":\"C\",\"TGA\":\"*\",\"TGG\":\"W\", \"CTT\":\"L\",\"CTC\":\"L\",\n",
    "              \"CTA\":\"L\",\"CTG\":\"L\",\"CCT\":\"P\",\"CCC\":\"P\",\"CCA\":\"P\",\"CCG\":\"P\",\n",
    "              \"CAT\":\"H\",\"CAC\":\"H|His\",\"CAA\":\"Q\",\"CAG\":\"Q\",\"CGT\":\"R\",\"CGC\":\"R\",\n",
    "              \"CGA\":\"R\",\"CGG\":\"R\", \"ATT\":\"I\",\"ATC\":\"I\",\"ATA\":\"I\",\"ATG\":\"M\",\n",
    "              \"ACT\":\"T\",\"ACC\":\"T\",\"ACA\":\"T\",\"ACG\":\"T\", \"AAT\":\"N\",\"AAC\":\"N\",\n",
    "              \"AAA\":\"K\",\"AAG\":\"K\",\"AGT\":\"S\",\"AGC\":\"S\",\"AGA\":\"R\",\"AGG\":\"R\",\n",
    "              \"GTT\":\"V\",\"GTC\":\"V\",\"GTA\":\"V\",\"GTG\":\"V\",\"GCT\":\"A\",\"GCC\":\"A\",\n",
    "              \"GCA\":\"A\",\"GCG\":\"A\", \"GAT\":\"D\",\"GAC\":\"D\",\"GAA\":\"E\",\n",
    "              \"GAG\":\"E\",\"GGT\":\"G\",\"GGC\":\"G\",\"GGA\":\"G\",\"GGG\":\"G\"}\n",
    "\n",
    "\n",
    "def translate_codon(codon):\n",
    "    return gencode.get(codon.upper(), 'x')\n",
    " \n",
    "# a function to split a sequence into codons\n",
    "def split_into_codons(dna, frame):\n",
    "    codons = []\n",
    "    for i in range(frame - 1, len(dna)-2, 3):\n",
    "        codon = dna[i:i+3]\n",
    "        codons.append(codon)\n",
    "    return codons\n",
    "                   \n",
    "def translate_dna_single(dna, frame=1):\n",
    "    codons = split_into_codons(dna, frame)\n",
    "    amino_acids = ''\n",
    "    for codon in codons:\n",
    "        amino_acids = amino_acids + translate_codon(codon)\n",
    "    return amino_acids\n",
    "\n"
   ]
  },
  {
   "cell_type": "code",
   "execution_count": 2,
   "metadata": {},
   "outputs": [
    {
     "name": "stdout",
     "output_type": "stream",
     "text": [
      "T\n",
      "['GTA', 'AGG', 'GCC']\n",
      "T*GP\n"
     ]
    }
   ],
   "source": [
    "print(translate_codon(\"ACT\"))\n",
    "print(split_into_codons(\"ACGTAAGGGCCCT\",3))\n",
    "print(translate_dna_single(\"ACGTAAGGGCCCT\"))"
   ]
  },
  {
   "cell_type": "code",
   "execution_count": 3,
   "metadata": {},
   "outputs": [
    {
     "name": "stdout",
     "output_type": "stream",
     "text": [
      "True\n",
      "False\n",
      "False\n",
      "4\n",
      "['A', 'C', 'G', 'T', 'A', 'C', 'G', 'T', 'A']\n",
      "{0: [[0], [1], [3], [5], [7]], 4: [[2]], 8: [[4]], 6: [[6]], 2: [[8]]}\n",
      "0\n",
      "2\n",
      "4\n",
      "6\n",
      "8\n"
     ]
    }
   ],
   "source": [
    "def is_complement(base1, base2):\n",
    "    bases = {'A':'T', 'T':'A', 'G':'C', 'C':'G'}\n",
    "    if bases.get(base1)==base2:\n",
    "        return True\n",
    "    else:\n",
    "        return False\n",
    "\n",
    "print(is_complement('A', 'T'))\n",
    "print(is_complement('A', 'G'))\n",
    "# The previous function works also for unknown bases\n",
    "print(is_complement('N', 'T'))\n",
    "\n",
    "def max_palindrome(dna, center):\n",
    "    if center ==0:\n",
    "        maximal_palindrome=0\n",
    "        return maximal_palindrome\n",
    "    else:\n",
    "        for i in range(min(len(dna)-center, center)):\n",
    "            if is_complement(dna[center-i-1], dna[center+i]):\n",
    "                maximal_palindrome=2*(i+1)\n",
    "            else:\n",
    "                maximal_palindrome=2*i\n",
    "                break\n",
    "        return maximal_palindrome\n",
    "print(max_palindrome(list('AGGGCCT'), 4))\n",
    "\n",
    "\n",
    "\n",
    "def read_fasta(file):\n",
    "    fasta_file = open(file, 'r')\n",
    "    DNA_list = []\n",
    "    for line in fasta_file:\n",
    "            line = line.strip('\\n>seq1')\n",
    "            for character in line:\n",
    "                DNA_list.append(character)\n",
    "    fasta_file.close()\n",
    "    return DNA_list\n",
    "\n",
    "print(read_fasta('smallTest.fasta')) \n",
    "# as the lists are in upper case no need to use st.upper method\n",
    "\n",
    "\n",
    "def find_palindrome(dna):\n",
    "    palindrome_dict={}\n",
    "    for i in range(len(dna)):\n",
    "        palindrome_length =max_palindrome(dna, i)\n",
    "        if palindrome_length in palindrome_dict:\n",
    "            palindrome_dict[palindrome_length].append([i])\n",
    "        else:\n",
    "            palindrome_dict[palindrome_length]=[[i]]\n",
    "    return palindrome_dict\n",
    "\n",
    "print(find_palindrome(read_fasta('smallTest.fasta')))\n",
    "\n",
    "def print_centers(palindromes, min_length):\n",
    "    i=0\n",
    "    list_of_lengths = []\n",
    "    while i < min_length:\n",
    "        if i in palindromes:\n",
    "            list_of_lengths.append(str(i))\n",
    "        i = i+1\n",
    "\n",
    "    return '\\n'.join(list_of_lengths)\n",
    "\n",
    "print(print_centers(find_palindrome(read_fasta('smallTest.fasta')), 9))\n"
   ]
  },
  {
   "cell_type": "code",
   "execution_count": 4,
   "metadata": {},
   "outputs": [
    {
     "name": "stdout",
     "output_type": "stream",
     "text": [
      "Exercises\n",
      "False\n",
      "True\n"
     ]
    }
   ],
   "source": [
    "def find_longest_word(words_list):  \n",
    "    word_len = []  \n",
    "    for n in words_list:  \n",
    "        word_len.append((len(n), n))  \n",
    "    word_len.sort()  \n",
    "    return word_len[-1][1]  \n",
    "\n",
    "print(find_longest_word([\"PHP\", \"Exercises\", \"Backend\"])) \n",
    "def is_vowel(char):\n",
    "   all_vowels = 'aeiou'\n",
    "   return char in all_vowels\n",
    "print(is_vowel('c'))\n",
    "print(is_vowel('e'))\n",
    "\n"
   ]
  },
  {
   "cell_type": "code",
   "execution_count": 5,
   "metadata": {},
   "outputs": [
    {
     "name": "stdout",
     "output_type": "stream",
     "text": [
      "({1: 'a', 2: 'b', 3: 'c', 4: 'd', 5: 'f', 6: 'k', 7: None}, [])\n"
     ]
    }
   ],
   "source": [
    "def dict_fun(keys, values):\n",
    "    d=dict()\n",
    "    remaining=[]\n",
    "    k=len(keys)\n",
    "    v=len(values)\n",
    "    if k==v:\n",
    "        for i in range(k):\n",
    "            d[keys[i]]=values[i]\n",
    "    elif k>v:\n",
    "        for i in range(v):\n",
    "            d[keys[i]]=values[i]\n",
    "        for i in range(k-v):\n",
    "            d[keys[i+v]]=None\n",
    "    else:\n",
    "        for i in range(k):\n",
    "            d[keys[i]]=values[i]\n",
    "        for i in range(k,v):\n",
    "            remaining +=values[i]\n",
    "    return d, remaining\n",
    "print(dict_fun([1, 2,3,4,5,6,7],['a','b','c','d','f','k']))\n",
    "\n"
   ]
  },
  {
   "cell_type": "code",
   "execution_count": 6,
   "metadata": {},
   "outputs": [
    {
     "name": "stdout",
     "output_type": "stream",
     "text": [
      "pali\n",
      "no\n",
      "no\n"
     ]
    }
   ],
   "source": [
    "def palin(words):\n",
    "    words=words.casefold()\n",
    "    revwo=reversed(words)\n",
    "    if list(words)==list(revwo):\n",
    "        print('pali')\n",
    "    else:\n",
    "        print('no')\n",
    "palin('madam')\n",
    "palin('isr')\n",
    "palin('nurses run')\n"
   ]
  },
  {
   "cell_type": "code",
   "execution_count": 7,
   "metadata": {},
   "outputs": [
    {
     "name": "stdout",
     "output_type": "stream",
     "text": [
      "+-+     @      -*-     @      ***     @      "
     ]
    }
   ],
   "source": [
    "for i in range(3):\n",
    "   for j in range(3):\n",
    "       if i + j % 2 == 1:\n",
    "           print('-', end='')\n",
    "       elif i == 0:\n",
    "           print('+', end='')\n",
    "       else:\n",
    "           print('*', end='')\n",
    "   print('@'.center(12), end='')"
   ]
  },
  {
   "cell_type": "code",
   "execution_count": 8,
   "metadata": {},
   "outputs": [
    {
     "name": "stdout",
     "output_type": "stream",
     "text": [
      "True\n",
      "[1, 2, 3]\n",
      "[1, 3, 4]\n",
      "12ab\n",
      "[12, 24, 35, 88, 120, 155]\n"
     ]
    }
   ],
   "source": [
    "def issorted(list):\n",
    "   if list==sorted(list):\n",
    "       return 'True'\n",
    "   else:\n",
    "       return sorted(list)\n",
    "print(issorted([1,2,3]))\n",
    "def remove_list(list):\n",
    "   list1=[]\n",
    "   for x  in list:\n",
    "       if x  not in list1:\n",
    "           list1.append(x)\n",
    "   return list1\n",
    "print(remove_list([1,2,3,2]))\n",
    "def common_list(l1,l4,l2):\n",
    "   l3=[]\n",
    "   for i in l1:\n",
    "       if i in l4: \n",
    "            if i in l2:\n",
    "               l3.append(i)\n",
    "   return l3\n",
    "print(common_list([1,2,3,4],[1,2,4,3],[1,5,6,4,3]))    \n",
    "\n",
    "def elemstr(list):\n",
    "   element= ''\n",
    "   for i in list:\n",
    "       element+=str(i)\n",
    "   return element\n",
    "print(elemstr([1,2,'a','b']))\n",
    "def remdib(list):\n",
    "    notdub=[]\n",
    "    for i in list:\n",
    "        if i not in notdub:\n",
    "            notdub.append(i)\n",
    "    return notdub\n",
    "print(remdib([12,24,35,24,88,120,155,88,120,155]))"
   ]
  },
  {
   "cell_type": "code",
   "execution_count": 9,
   "metadata": {},
   "outputs": [
    {
     "name": "stdout",
     "output_type": "stream",
     "text": [
      "John 24 mandatory, from March to June\n"
     ]
    }
   ],
   "source": [
    "class Student(object):\n",
    "    def __init__(self, name, age=None, major=None):\n",
    "        self.name = name\n",
    "        self.set_age(age)\n",
    "        self.set_major(major)\n",
    "\n",
    "    def set_age(self, age):\n",
    "        self.age = age\n",
    "\n",
    "    def set_major(self, major):\n",
    "        self.major = major\n",
    "class MasterStudent(Student):\n",
    "    def __init__(self, name):\n",
    "        super().__init__(name)\n",
    "        self.internship = 'mandatory, from March to June'\n",
    "John = MasterStudent('John')\n",
    "John.set_age(24)\n",
    "print(John.name, John.age, John.internship)"
   ]
  },
  {
   "cell_type": "code",
   "execution_count": 10,
   "metadata": {
    "collapsed": true
   },
   "outputs": [],
   "source": [
    "class Time(object):\n",
    "\n",
    "    #--------------------------------------------------------------------------\n",
    "    # Initializer\n",
    "    \n",
    "    def __init__(self, hour = 0, minute = 0, second = 0):\n",
    "        self.hour = hour\n",
    "        self.minute = minute\n",
    "        self.second = second\n",
    "\n",
    "    #--------------------------------------------------------------------------\n",
    "    # Conversion methods\n",
    "    \n",
    "    def __str__(self):\n",
    "        fmt = '{:02d}:{:02d}:{:02d}'\n",
    "        return fmt.format(self.hour, self.minute, self.second )\n",
    "\n",
    "    def __repr__(self):\n",
    "        return '{}.{}({},{},{})'.format(\n",
    "            __name__,\n",
    "            self.__class__.__name__,\n",
    "            self.hour, self.minute, self.second)\n",
    "               \n",
    "    #--------------------------------------------------------------------------\n",
    "    # Overloaded operators\n",
    "\n",
    "    def __add__(self, other):\n",
    "        if isinstance(other, Time):\n",
    "            return self.add_time(other)\n",
    "        else:\n",
    "            return self.increment(other)\n",
    "\n",
    "    def __radd__(self, other):\n",
    "        return self.__add__(other)\n",
    "\n",
    "    def __iadd__(self, other):\n",
    "        self.hour   += other.hour\n",
    "        self.minute += other.minute\n",
    "        self.second += other.second\n",
    "\n",
    "        if self.second >= 60:\n",
    "            self.second -= 60\n",
    "            self.minute += 1\n",
    "\n",
    "        if self.minute >= 60:\n",
    "            self.minute -= 60\n",
    "            self.hour   += 1\n",
    "\n",
    "        return self\n",
    "    \n",
    "    #--------------------------------------------------------------------------\n",
    "    # static methods\n",
    "    \n",
    "    @staticmethod\n",
    "    def int_to_time(seconds):\n",
    "        \"\"\"\n",
    "        Converts an integer (seconds) to a Time object\n",
    "        \"\"\" \n",
    "        (minutes, seconds) = divmod(seconds, 60)\n",
    "        (hours, minutes) = divmod(minute, 60)\n",
    "        return Time(hours, minutes, seconds)\n",
    "\n",
    "    #--------------------------------------------------------------------------\n",
    "    # properties\n",
    "\n",
    "    @property\n",
    "    def hour(self):\n",
    "        return self.__hour\n",
    "\n",
    "    @hour.setter\n",
    "    def hour(self, hour):\n",
    "        assert isinstance(hour, int), 'invalid value specified for hour'\n",
    "        self.__hour = hour\n",
    "\n",
    "    @property\n",
    "    def minute(self):\n",
    "        return self.__minute\n",
    "\n",
    "    @minute.setter\n",
    "    def minute(self, minute):\n",
    "        assert isinstance(minute, int), 'invalid type specified for minute'\n",
    "        assert 0 <= minute < 60, 'invalid value specified for minute'\n",
    "        self.__minute = minute\n",
    "    @property\n",
    "    def second(self):\n",
    "        return self.__minute\n",
    "\n",
    "    @second.setter\n",
    "    def second(self, second):\n",
    "        assert isinstance(second, int), 'invalid type specified for second'\n",
    "        assert 0 <= second < 60, 'invalid value specified for second'\n",
    "        self.__second = second\n",
    "\n",
    "    #--------------------------------------------------------------------------\n",
    "    # Output methods\n",
    "\n",
    "    def print_time(self):\n",
    "        fmt = '{:02d}:{:02d}:{:02d}'\n",
    "        print(fmt.format(self.hour, self.minute, self.second ))\n",
    "\n",
    "    #--------------------------------------------------------------------------\n",
    "    # Conversion methods\n",
    "\n",
    "    def time_to_int(self):\n",
    "        minutes = self.hour * 60 + self.minute\n",
    "        seconds = minutes * 60 + self.second\n",
    "        return seconds\n",
    "\n",
    "    #--------------------------------------------------------------------------\n",
    "    # Misc\n",
    "    \n",
    "    def increment(self, seconds):\n",
    "        seconds += self.time_to_int()\n",
    "        return int_to_time(seconds)\n",
    "\n",
    "    def is_after(self, other):\n",
    "        return self.time_to_int() > other.time_to_int()\n",
    "\n",
    "    def add_time(self, other):\n",
    "        seconds = self.time_to_int() + \\\n",
    "                  other.time_to_int()\n",
    "        return int_to_time(seconds)"
   ]
  },
  {
   "cell_type": "code",
   "execution_count": 11,
   "metadata": {},
   "outputs": [
    {
     "name": "stdout",
     "output_type": "stream",
     "text": [
      "IIIIIIsssssrrrraaaeel\n"
     ]
    }
   ],
   "source": [
    "def func1(s):\n",
    "    if len(s) == 0:\n",
    "        return s\n",
    "    else:\n",
    "        return s[0] * len(s) + func2(s)\n",
    "def func2(s):\n",
    "    return func1(s[1:])\n",
    "print(func1('Israel')) "
   ]
  },
  {
   "cell_type": "code",
   "execution_count": 12,
   "metadata": {},
   "outputs": [
    {
     "name": "stdout",
     "output_type": "stream",
     "text": [
      "50.9\n"
     ]
    }
   ],
   "source": [
    "import random \n",
    "def has_duplicates(list):\n",
    "    list1=sorted(list)\n",
    "    i=0\n",
    "    while i < len(list1)-1:\n",
    "        if list1[i]==list1[i+1]:\n",
    "            return True\n",
    "        else:\n",
    "            i=i+1\n",
    "    return False\n",
    "def rand_birthday(n, students):\n",
    "    number_same_birthday=0\n",
    "    for i in range(n):\n",
    "        birthday = []\n",
    "       \n",
    "        for i in range(students):\n",
    "            birthday.append(random.randint(1, 365))\n",
    "        if has_duplicates(birthday):\n",
    "            number_same_birthday = number_same_birthday + 1\n",
    "\n",
    "    return number_same_birthday / n * 100\n",
    "\n",
    "print(rand_birthday(1000, 23))"
   ]
  },
  {
   "cell_type": "code",
   "execution_count": null,
   "metadata": {},
   "outputs": [],
   "source": [
    "from collections import defaultdict\n",
    "\n",
    "with open('E-coli.txt', 'r') as f:\n",
    "    genome = f.read().rstrip()\n",
    "\n",
    "\n",
    "kmer = 9\n",
    "Length = 500  \n",
    "min_clumpsize = 3\n",
    "\n",
    "\n",
    "\n",
    "def get_substrings(g, k):\n",
    "    \"\"\"\n",
    "Take the input genome window 'g', and produce a list of unique \n",
    "substrings of length 'k' contained within it. \n",
    "    \"\"\"\n",
    "    substrings = list()\n",
    "\n",
    "    for i in range(k):\n",
    "        line = g[i:]\n",
    "        substrings += [line[i:i + k]\n",
    "                       for i in range(0, len(line), k) if i + k <= len(line)]\n",
    "\n",
    "   \n",
    "    results = defaultdict(int)\n",
    "    for s in substrings:\n",
    "        results[s] += 1\n",
    "    return results\n",
    "\n",
    "\n",
    "def find_clumps(genome, kmer, Length, clumpsize):\n",
    "   \n",
    "    window = genome[0:Length]\n",
    "\n",
    "    # Initialise our counter, because the main algorithm can't start from\n",
    "    # scratch.\n",
    "    patterns = get_substrings(window, kmer)\n",
    "\n",
    "    # Using a dictionary not a list because the lookups are faster once the\n",
    "    # size of the object becomes large\n",
    "    relevant = {p: 1 for p in patterns if patterns[p] >= clumpsize}\n",
    "\n",
    "    starting_string = genome[0:kmer]\n",
    "\n",
    "    for i in range(Length, len(genome)):\n",
    "        \n",
    "        window = window[1:]\n",
    "        window += genome[i]\n",
    "\n",
    "        patterns[starting_string] -= 1\n",
    "        starting_string = window[0:kmer]\n",
    "\n",
    "        ending_string = window[-kmer:]\n",
    "        patterns[ending_string] += 1\n",
    "\n",
    "        if patterns[ending_string] >= clumpsize and ending_string not in relevant:\n",
    "            relevant[ending_string] = 1\n",
    "\n",
    "    return list(relevant)\n",
    "\n",
    "\n",
    "if __name__ == \"__main__\":\n",
    "    clumps = find_clumps(genome, kmer, Length, min_clumpsize)\n",
    "    print(\"Total: {}\".format(len(clumps)))"
   ]
  },
  {
   "cell_type": "code",
   "execution_count": 58,
   "metadata": {},
   "outputs": [
    {
     "data": {
      "text/plain": [
       "2"
      ]
     },
     "execution_count": 58,
     "metadata": {},
     "output_type": "execute_result"
    }
   ],
   "source": [
    "import os\n",
    "\n",
    "def walk(dir):\n",
    "    \"\"\"Prints the names of all files in dirname and its subdirectories.\n",
    "\n",
    "    dirname: string name of directory\n",
    "    \"\"\"\n",
    "    for name in os.listdir(dir):\n",
    "        path = os.path.join(dir, name)\n",
    "\n",
    "        if os.path.isfile(path):\n",
    "            print(path)\n",
    "        else:\n",
    "             walk(path)\n",
    "        print(walk(os.getcwd()))\n",
    "def walk2(dirname):\n",
    "    \"\"\"Prints the names of all files in dirname and its subdirectories.\n",
    "\n",
    "    dirname: string name of directory\n",
    "    \"\"\"\n",
    "    for root, dirs, files in os.walk(dir):\n",
    "        for filename in files:\n",
    "            print(os.path.join(root, filename))\n",
    "\n",
    "\n",
    "if __name__ == '__main__':\n",
    "    \n"
   ]
  },
  {
   "cell_type": "code",
   "execution_count": null,
   "metadata": {
    "collapsed": true
   },
   "outputs": [],
   "source": [
    "data=open('words.txt', 'r')\n",
    "words=data.read().splitlines()\n",
    "def anagram_dict(words):\n",
    "    anagrams=dict()\n",
    "    for word in words:\n",
    "        sorted_word=''.join(sorted(word))\n",
    "        anagrams[sorted_word]=anagrams.get(sorted_word, [])\n",
    "        anagrams[sorted_word].append(word)\n",
    "    anagrams = {sorted_word: anagrams[sorted_word] for sorted_word in anagrams if len(anagrams[sorted_word]) > 1}\n",
    "    return anagrams\n",
    "    \n",
    "print(anagram_dict(words))"
   ]
  }
 ],
 "metadata": {
  "kernelspec": {
   "display_name": "Python 3",
   "language": "python",
   "name": "python3"
  },
  "language_info": {
   "codemirror_mode": {
    "name": "ipython",
    "version": 3
   },
   "file_extension": ".py",
   "mimetype": "text/x-python",
   "name": "python",
   "nbconvert_exporter": "python",
   "pygments_lexer": "ipython3",
   "version": "3.6.3"
  }
 },
 "nbformat": 4,
 "nbformat_minor": 2
}
