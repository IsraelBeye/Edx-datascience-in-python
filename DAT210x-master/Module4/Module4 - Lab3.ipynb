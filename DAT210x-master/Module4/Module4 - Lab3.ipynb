{
 "cells": [
  {
   "cell_type": "markdown",
   "metadata": {},
   "source": [
    "# DAT210x - Programming with Python for DS"
   ]
  },
  {
   "cell_type": "markdown",
   "metadata": {},
   "source": [
    "## Module4- Lab3"
   ]
  },
  {
   "cell_type": "markdown",
   "metadata": {
    "collapsed": true
   },
   "source": [
    "This code is intentionally missing! Read the directions on the course lab page!"
   ]
  },
  {
   "cell_type": "code",
   "execution_count": 2,
   "metadata": {
    "collapsed": true
   },
   "outputs": [],
   "source": [
    "import pandas as pd\n",
    "import matplotlib.pyplot as plt\n",
    "import matplotlib\n",
    "\n",
    "# Look pretty...\n",
    "matplotlib.style.use('ggplot')"
   ]
  },
  {
   "cell_type": "code",
   "execution_count": 27,
   "metadata": {
    "collapsed": true
   },
   "outputs": [],
   "source": [
    "def scaleFeaturesDF(df):\n",
    "    # Feature scaling is a type of transformation that only changes the\n",
    "    # scale, but not number of features. Because of this, we can still\n",
    "    # use the original dataset's column names... so long as we keep in\n",
    "    # mind that the _units_ have been altered:\n",
    "\n",
    "    scaled = preprocessing.StandardScaler().fit_transform(df)\n",
    "    scaled = pd.DataFrame(scaled, columns=df.columns)\n",
    "    \n",
    "    print(\"New Variances:\\n\", scaled.var())\n",
    "    print(\"New Describe:\\n\", scaled.describe())\n",
    "    return scaled"
   ]
  },
  {
   "cell_type": "code",
   "execution_count": 28,
   "metadata": {
    "collapsed": true
   },
   "outputs": [],
   "source": [
    "def drawVectors(transformed_features, components_, columns, plt, scaled):\n",
    "    if not scaled:\n",
    "        return plt.axes() # No cheating ;-)\n",
    "\n",
    "    num_columns = len(columns)\n",
    "\n",
    "    # This funtion will project your *original* feature (columns)\n",
    "    # onto your principal component feature-space, so that you can\n",
    "    # visualize how \"important\" each one was in the\n",
    "    # multi-dimensional scaling\n",
    "\n",
    "    # Scale the principal components by the max value in\n",
    "    # the transformed set belonging to that component\n",
    "    xvector = components_[0] * max(transformed_features[:,0])\n",
    "    yvector = components_[1] * max(transformed_features[:,1])\n",
    "\n",
    "    ## visualize projections\n",
    "\n",
    "    # Sort each column by it's length. These are your *original*\n",
    "    # columns, not the principal components.\n",
    "    important_features = { columns[i] : math.sqrt(xvector[i]**2 + yvector[i]**2) for i in range(num_columns) }\n",
    "    important_features = sorted(zip(important_features.values(), important_features.keys()), reverse=True)\n",
    "    print(\"Features by importance:\\n\", important_features)\n",
    "\n",
    "    ax = plt.axes()\n",
    "\n",
    "    for i in range(num_columns):\n",
    "        # Use an arrow to project each original feature as a\n",
    "        # labeled vector on your principal component axes\n",
    "        plt.arrow(0, 0, xvector[i], yvector[i], color='b', width=0.0005, head_width=0.02, alpha=0.75)\n",
    "        plt.text(xvector[i]*1.2, yvector[i]*1.2, list(columns)[i], color='b', alpha=0.75)\n",
    "\n",
    "    return ax"
   ]
  },
  {
   "cell_type": "code",
   "execution_count": 29,
   "metadata": {
    "collapsed": true
   },
   "outputs": [],
   "source": [
    "# Do * NOT * alter this line, until instructed!\n",
    "scaleFeatures = False"
   ]
  },
  {
   "cell_type": "code",
   "execution_count": 30,
   "metadata": {
    "collapsed": true
   },
   "outputs": [],
   "source": [
    "df = pd.read_csv('Datasets/kidney_disease.csv')"
   ]
  },
  {
   "cell_type": "code",
   "execution_count": 31,
   "metadata": {
    "collapsed": true
   },
   "outputs": [],
   "source": [
    "labels = ['red' if i=='ckd' else 'green' for i in df.classification]"
   ]
  },
  {
   "cell_type": "code",
   "execution_count": 32,
   "metadata": {},
   "outputs": [
    {
     "data": {
      "text/html": [
       "<div>\n",
       "<style>\n",
       "    .dataframe thead tr:only-child th {\n",
       "        text-align: right;\n",
       "    }\n",
       "\n",
       "    .dataframe thead th {\n",
       "        text-align: left;\n",
       "    }\n",
       "\n",
       "    .dataframe tbody tr th {\n",
       "        vertical-align: top;\n",
       "    }\n",
       "</style>\n",
       "<table border=\"1\" class=\"dataframe\">\n",
       "  <thead>\n",
       "    <tr style=\"text-align: right;\">\n",
       "      <th></th>\n",
       "      <th>age</th>\n",
       "      <th>bp</th>\n",
       "      <th>sg</th>\n",
       "      <th>al</th>\n",
       "      <th>su</th>\n",
       "      <th>bgr</th>\n",
       "      <th>bu</th>\n",
       "      <th>sc</th>\n",
       "      <th>sod</th>\n",
       "      <th>pot</th>\n",
       "      <th>hemo</th>\n",
       "      <th>pcv</th>\n",
       "      <th>wc</th>\n",
       "      <th>rc</th>\n",
       "    </tr>\n",
       "  </thead>\n",
       "  <tbody>\n",
       "    <tr>\n",
       "      <th>0</th>\n",
       "      <td>48.0</td>\n",
       "      <td>80.0</td>\n",
       "      <td>1.020</td>\n",
       "      <td>1.0</td>\n",
       "      <td>0.0</td>\n",
       "      <td>121.0</td>\n",
       "      <td>36.0</td>\n",
       "      <td>1.2</td>\n",
       "      <td>NaN</td>\n",
       "      <td>NaN</td>\n",
       "      <td>15.4</td>\n",
       "      <td>44</td>\n",
       "      <td>7800</td>\n",
       "      <td>5.2</td>\n",
       "    </tr>\n",
       "    <tr>\n",
       "      <th>1</th>\n",
       "      <td>7.0</td>\n",
       "      <td>50.0</td>\n",
       "      <td>1.020</td>\n",
       "      <td>4.0</td>\n",
       "      <td>0.0</td>\n",
       "      <td>NaN</td>\n",
       "      <td>18.0</td>\n",
       "      <td>0.8</td>\n",
       "      <td>NaN</td>\n",
       "      <td>NaN</td>\n",
       "      <td>11.3</td>\n",
       "      <td>38</td>\n",
       "      <td>6000</td>\n",
       "      <td>NaN</td>\n",
       "    </tr>\n",
       "    <tr>\n",
       "      <th>2</th>\n",
       "      <td>62.0</td>\n",
       "      <td>80.0</td>\n",
       "      <td>1.010</td>\n",
       "      <td>2.0</td>\n",
       "      <td>3.0</td>\n",
       "      <td>423.0</td>\n",
       "      <td>53.0</td>\n",
       "      <td>1.8</td>\n",
       "      <td>NaN</td>\n",
       "      <td>NaN</td>\n",
       "      <td>9.6</td>\n",
       "      <td>31</td>\n",
       "      <td>7500</td>\n",
       "      <td>NaN</td>\n",
       "    </tr>\n",
       "    <tr>\n",
       "      <th>3</th>\n",
       "      <td>48.0</td>\n",
       "      <td>70.0</td>\n",
       "      <td>1.005</td>\n",
       "      <td>4.0</td>\n",
       "      <td>0.0</td>\n",
       "      <td>117.0</td>\n",
       "      <td>56.0</td>\n",
       "      <td>3.8</td>\n",
       "      <td>111.0</td>\n",
       "      <td>2.5</td>\n",
       "      <td>11.2</td>\n",
       "      <td>32</td>\n",
       "      <td>6700</td>\n",
       "      <td>3.9</td>\n",
       "    </tr>\n",
       "    <tr>\n",
       "      <th>4</th>\n",
       "      <td>51.0</td>\n",
       "      <td>80.0</td>\n",
       "      <td>1.010</td>\n",
       "      <td>2.0</td>\n",
       "      <td>0.0</td>\n",
       "      <td>106.0</td>\n",
       "      <td>26.0</td>\n",
       "      <td>1.4</td>\n",
       "      <td>NaN</td>\n",
       "      <td>NaN</td>\n",
       "      <td>11.6</td>\n",
       "      <td>35</td>\n",
       "      <td>7300</td>\n",
       "      <td>4.6</td>\n",
       "    </tr>\n",
       "  </tbody>\n",
       "</table>\n",
       "</div>"
      ],
      "text/plain": [
       "    age    bp     sg   al   su    bgr    bu   sc    sod  pot  hemo pcv    wc  \\\n",
       "0  48.0  80.0  1.020  1.0  0.0  121.0  36.0  1.2    NaN  NaN  15.4  44  7800   \n",
       "1   7.0  50.0  1.020  4.0  0.0    NaN  18.0  0.8    NaN  NaN  11.3  38  6000   \n",
       "2  62.0  80.0  1.010  2.0  3.0  423.0  53.0  1.8    NaN  NaN   9.6  31  7500   \n",
       "3  48.0  70.0  1.005  4.0  0.0  117.0  56.0  3.8  111.0  2.5  11.2  32  6700   \n",
       "4  51.0  80.0  1.010  2.0  0.0  106.0  26.0  1.4    NaN  NaN  11.6  35  7300   \n",
       "\n",
       "    rc  \n",
       "0  5.2  \n",
       "1  NaN  \n",
       "2  NaN  \n",
       "3  3.9  \n",
       "4  4.6  "
      ]
     },
     "execution_count": 32,
     "metadata": {},
     "output_type": "execute_result"
    }
   ],
   "source": [
    "df.drop(labels = ['id', 'classification', 'rbc', 'pc', 'pcc', 'ba', 'htn', 'dm', 'cad', 'appet', 'pe', 'ane'], axis = 1, inplace = True)\n",
    "df.head()\n"
   ]
  },
  {
   "cell_type": "code",
   "execution_count": 33,
   "metadata": {},
   "outputs": [
    {
     "data": {
      "text/plain": [
       "age     float64\n",
       "bp      float64\n",
       "sg      float64\n",
       "al      float64\n",
       "su      float64\n",
       "bgr     float64\n",
       "bu      float64\n",
       "sc      float64\n",
       "sod     float64\n",
       "pot     float64\n",
       "hemo    float64\n",
       "pcv      object\n",
       "wc       object\n",
       "rc       object\n",
       "dtype: object"
      ]
     },
     "execution_count": 33,
     "metadata": {},
     "output_type": "execute_result"
    }
   ],
   "source": [
    "\n",
    "# 2. Right after you print out your dataset's dtypes, add an exit() so you can inspect the results. Does everything\n",
    "# look like it should/properly numeric? If not, make code changes to coerce the remaining column(s).\n",
    "df.dtypes\n"
   ]
  },
  {
   "cell_type": "code",
   "execution_count": 34,
   "metadata": {
    "collapsed": true
   },
   "outputs": [],
   "source": [
    "# The pcv, wc, and rc columns are still of type 'object'.\n",
    "df.pcv = pd.to_numeric(df.pcv, errors = 'coerce')\n",
    "df.wc = pd.to_numeric(df.wc, errors = 'coerce')\n",
    "df.rc = pd.to_numeric(df.rc, errors = 'coerce')"
   ]
  },
  {
   "cell_type": "code",
   "execution_count": 35,
   "metadata": {},
   "outputs": [
    {
     "data": {
      "text/plain": [
       "age     float64\n",
       "bp      float64\n",
       "sg      float64\n",
       "al      float64\n",
       "su      float64\n",
       "bgr     float64\n",
       "bu      float64\n",
       "sc      float64\n",
       "sod     float64\n",
       "pot     float64\n",
       "hemo    float64\n",
       "pcv     float64\n",
       "wc      float64\n",
       "rc      float64\n",
       "dtype: object"
      ]
     },
     "execution_count": 35,
     "metadata": {},
     "output_type": "execute_result"
    }
   ],
   "source": [
    "df.dtypes"
   ]
  },
  {
   "cell_type": "code",
   "execution_count": 36,
   "metadata": {},
   "outputs": [
    {
     "data": {
      "text/html": [
       "<div>\n",
       "<style>\n",
       "    .dataframe thead tr:only-child th {\n",
       "        text-align: right;\n",
       "    }\n",
       "\n",
       "    .dataframe thead th {\n",
       "        text-align: left;\n",
       "    }\n",
       "\n",
       "    .dataframe tbody tr th {\n",
       "        vertical-align: top;\n",
       "    }\n",
       "</style>\n",
       "<table border=\"1\" class=\"dataframe\">\n",
       "  <thead>\n",
       "    <tr style=\"text-align: right;\">\n",
       "      <th></th>\n",
       "      <th>age</th>\n",
       "      <th>bp</th>\n",
       "      <th>sg</th>\n",
       "      <th>al</th>\n",
       "      <th>su</th>\n",
       "      <th>bgr</th>\n",
       "      <th>bu</th>\n",
       "      <th>sc</th>\n",
       "      <th>sod</th>\n",
       "      <th>pot</th>\n",
       "      <th>hemo</th>\n",
       "      <th>pcv</th>\n",
       "      <th>wc</th>\n",
       "      <th>rc</th>\n",
       "    </tr>\n",
       "  </thead>\n",
       "  <tbody>\n",
       "    <tr>\n",
       "      <th>3</th>\n",
       "      <td>48.0</td>\n",
       "      <td>70.0</td>\n",
       "      <td>1.005</td>\n",
       "      <td>4.0</td>\n",
       "      <td>0.0</td>\n",
       "      <td>117.0</td>\n",
       "      <td>56.0</td>\n",
       "      <td>3.8</td>\n",
       "      <td>111.0</td>\n",
       "      <td>2.5</td>\n",
       "      <td>11.2</td>\n",
       "      <td>32.0</td>\n",
       "      <td>6700.0</td>\n",
       "      <td>3.9</td>\n",
       "    </tr>\n",
       "    <tr>\n",
       "      <th>5</th>\n",
       "      <td>60.0</td>\n",
       "      <td>90.0</td>\n",
       "      <td>1.015</td>\n",
       "      <td>3.0</td>\n",
       "      <td>0.0</td>\n",
       "      <td>74.0</td>\n",
       "      <td>25.0</td>\n",
       "      <td>1.1</td>\n",
       "      <td>142.0</td>\n",
       "      <td>3.2</td>\n",
       "      <td>12.2</td>\n",
       "      <td>39.0</td>\n",
       "      <td>7800.0</td>\n",
       "      <td>4.4</td>\n",
       "    </tr>\n",
       "    <tr>\n",
       "      <th>9</th>\n",
       "      <td>53.0</td>\n",
       "      <td>90.0</td>\n",
       "      <td>1.020</td>\n",
       "      <td>2.0</td>\n",
       "      <td>0.0</td>\n",
       "      <td>70.0</td>\n",
       "      <td>107.0</td>\n",
       "      <td>7.2</td>\n",
       "      <td>114.0</td>\n",
       "      <td>3.7</td>\n",
       "      <td>9.5</td>\n",
       "      <td>29.0</td>\n",
       "      <td>12100.0</td>\n",
       "      <td>3.7</td>\n",
       "    </tr>\n",
       "    <tr>\n",
       "      <th>11</th>\n",
       "      <td>63.0</td>\n",
       "      <td>70.0</td>\n",
       "      <td>1.010</td>\n",
       "      <td>3.0</td>\n",
       "      <td>0.0</td>\n",
       "      <td>380.0</td>\n",
       "      <td>60.0</td>\n",
       "      <td>2.7</td>\n",
       "      <td>131.0</td>\n",
       "      <td>4.2</td>\n",
       "      <td>10.8</td>\n",
       "      <td>32.0</td>\n",
       "      <td>4500.0</td>\n",
       "      <td>3.8</td>\n",
       "    </tr>\n",
       "    <tr>\n",
       "      <th>12</th>\n",
       "      <td>68.0</td>\n",
       "      <td>70.0</td>\n",
       "      <td>1.015</td>\n",
       "      <td>3.0</td>\n",
       "      <td>1.0</td>\n",
       "      <td>208.0</td>\n",
       "      <td>72.0</td>\n",
       "      <td>2.1</td>\n",
       "      <td>138.0</td>\n",
       "      <td>5.8</td>\n",
       "      <td>9.7</td>\n",
       "      <td>28.0</td>\n",
       "      <td>12200.0</td>\n",
       "      <td>3.4</td>\n",
       "    </tr>\n",
       "  </tbody>\n",
       "</table>\n",
       "</div>"
      ],
      "text/plain": [
       "     age    bp     sg   al   su    bgr     bu   sc    sod  pot  hemo   pcv  \\\n",
       "3   48.0  70.0  1.005  4.0  0.0  117.0   56.0  3.8  111.0  2.5  11.2  32.0   \n",
       "5   60.0  90.0  1.015  3.0  0.0   74.0   25.0  1.1  142.0  3.2  12.2  39.0   \n",
       "9   53.0  90.0  1.020  2.0  0.0   70.0  107.0  7.2  114.0  3.7   9.5  29.0   \n",
       "11  63.0  70.0  1.010  3.0  0.0  380.0   60.0  2.7  131.0  4.2  10.8  32.0   \n",
       "12  68.0  70.0  1.015  3.0  1.0  208.0   72.0  2.1  138.0  5.8   9.7  28.0   \n",
       "\n",
       "         wc   rc  \n",
       "3    6700.0  3.9  \n",
       "5    7800.0  4.4  \n",
       "9   12100.0  3.7  \n",
       "11   4500.0  3.8  \n",
       "12  12200.0  3.4  "
      ]
     },
     "execution_count": 36,
     "metadata": {},
     "output_type": "execute_result"
    }
   ],
   "source": [
    "# Need to remove the NaN values from the dataframe:\n",
    "df.dropna(axis = 0, how = 'any', inplace = True)\n",
    "df.head()"
   ]
  },
  {
   "cell_type": "code",
   "execution_count": 37,
   "metadata": {},
   "outputs": [
    {
     "data": {
      "text/plain": [
       "age     2.446577e+02\n",
       "bp      1.330391e+02\n",
       "sg      3.186973e-05\n",
       "al      1.849583e+00\n",
       "su      9.443008e-01\n",
       "bgr     5.696682e+03\n",
       "bu      2.095073e+03\n",
       "sc      8.668748e+00\n",
       "sod     4.772204e+01\n",
       "pot     9.520765e+00\n",
       "hemo    8.026738e+00\n",
       "pcv     7.985587e+01\n",
       "wc      8.568807e+06\n",
       "rc      1.002693e+00\n",
       "dtype: float64"
      ]
     },
     "execution_count": 37,
     "metadata": {},
     "output_type": "execute_result"
    }
   ],
   "source": [
    "# TODO: PCA Operates based on variance. The variable with the greatest variance will dominate. Go ahead and peek into your data using\n",
    "# a command that will check the variance of every feature in your dataset. Print out the results. Also print out the results of\n",
    "# running .describe on your dataset.\n",
    "#\n",
    "# Hint: If you don't see all three variables: 'bgr','wc' and 'rc', then you probably didn't complete the previous step properly.\n",
    "#\n",
    "# .. your code here ..\n",
    "df.var()"
   ]
  },
  {
   "cell_type": "code",
   "execution_count": 38,
   "metadata": {
    "collapsed": true
   },
   "outputs": [],
   "source": [
    "# TODO: This method assumes your dataframe is called df. If it isn't, make the appropriate changes. Don't alter the code\n",
    "# in scaleFeatures() just yet though!\n",
    "#\n",
    "# .. your code adjustment here ..\n",
    "if scaleFeatures: df = scaleFeatures(df)"
   ]
  },
  {
   "cell_type": "code",
   "execution_count": 39,
   "metadata": {
    "collapsed": true
   },
   "outputs": [],
   "source": [
    "# TODO: Run PCA on your dataset and reduce it to 2 components. Ensure your PCA instance is saved in a variable called 'pca',\n",
    "# and that the results of your transformation are saved in 'T'.\n",
    "#\n",
    "# .. your code here ..\n",
    "from sklearn.decomposition import PCA\n",
    "pca = PCA(n_components = 2)\n",
    "pca.fit(df)\n",
    "T = pca.transform(df)"
   ]
  },
  {
   "cell_type": "code",
   "execution_count": 40,
   "metadata": {},
   "outputs": [
    {
     "data": {
      "image/png": "[encoded data removed]",
      "text/plain": [
       "<matplotlib.figure.Figure at 0x2efecb007f0>"
      ]
     },
     "metadata": {},
     "output_type": "display_data"
    }
   ],
   "source": [
    "# Plot the transformed data as a scatter plot. Recall that transforming the data will result in a NumPy NDArray. You can\n",
    "# either use MatPlotLib to graph it directly, or you can convert it to DataFrame and have pandas do it for you.\n",
    "#\n",
    "# Since we've already demonstrated how to plot directly with MatPlotLib in Module4/assignment1.py, this time we'll convert\n",
    "# to a Pandas Dataframe.\n",
    "#\n",
    "# Since we transformed via PCA, we no longer have column names. We know we are in P.C. space, so we'll just define the\n",
    "# coordinates accordingly:\n",
    "ax = drawVectors(T, pca.components_, df.columns.values, plt, scaleFeatures)\n",
    "T = pd.DataFrame(T)\n",
    "T.columns = ['component1', 'component2']\n",
    "T.plot.scatter(x='component1', y='component2', marker='o', c = labels, alpha=0.75, ax=ax)\n",
    "plt.show()"
   ]
  },
  {
   "cell_type": "code",
   "execution_count": 33,
   "metadata": {},
   "outputs": [],
   "source": [
    "df=pd.ExcelFile(\"../../../../../../Desktop/scrum.xlsx\")"
   ]
  },
  {
   "cell_type": "code",
   "execution_count": 34,
   "metadata": {},
   "outputs": [
    {
     "data": {
      "text/html": [
       "<div>\n",
       "<style>\n",
       "    .dataframe thead tr:only-child th {\n",
       "        text-align: right;\n",
       "    }\n",
       "\n",
       "    .dataframe thead th {\n",
       "        text-align: left;\n",
       "    }\n",
       "\n",
       "    .dataframe tbody tr th {\n",
       "        vertical-align: top;\n",
       "    }\n",
       "</style>\n",
       "<table border=\"1\" class=\"dataframe\">\n",
       "  <thead>\n",
       "    <tr style=\"text-align: right;\">\n",
       "      <th></th>\n",
       "      <th>Id</th>\n",
       "      <th>Frage</th>\n",
       "      <th>True_False</th>\n",
       "      <th>all_of_these</th>\n",
       "      <th>1fach_Antwort</th>\n",
       "      <th>3-Fach_Antwort</th>\n",
       "      <th>2-Fach_Antwort</th>\n",
       "    </tr>\n",
       "  </thead>\n",
       "  <tbody>\n",
       "    <tr>\n",
       "      <th>0</th>\n",
       "      <td>1</td>\n",
       "      <td>An abnormal termination of a Sprint is called ...</td>\n",
       "      <td>NaN</td>\n",
       "      <td>NaN</td>\n",
       "      <td>When the Product Owner determines that it make...</td>\n",
       "      <td>NaN</td>\n",
       "      <td>NaN</td>\n",
       "    </tr>\n",
       "    <tr>\n",
       "      <th>1</th>\n",
       "      <td>2</td>\n",
       "      <td>Development Team members volunteer to own a Sp...</td>\n",
       "      <td>NaN</td>\n",
       "      <td>NaN</td>\n",
       "      <td>Never. All Sprint Backlog Items are \"owned\" by...</td>\n",
       "      <td>NaN</td>\n",
       "      <td>NaN</td>\n",
       "    </tr>\n",
       "    <tr>\n",
       "      <th>2</th>\n",
       "      <td>3</td>\n",
       "      <td>Who is responsible for registering the work es...</td>\n",
       "      <td>NaN</td>\n",
       "      <td>NaN</td>\n",
       "      <td>The Development Team.</td>\n",
       "      <td>NaN</td>\n",
       "      <td>NaN</td>\n",
       "    </tr>\n",
       "    <tr>\n",
       "      <th>3</th>\n",
       "      <td>4</td>\n",
       "      <td>When multiple teams are working together, each...</td>\n",
       "      <td>False</td>\n",
       "      <td>NaN</td>\n",
       "      <td>NaN</td>\n",
       "      <td>NaN</td>\n",
       "      <td>NaN</td>\n",
       "    </tr>\n",
       "    <tr>\n",
       "      <th>4</th>\n",
       "      <td>5</td>\n",
       "      <td>An organization has decided to adopt Scrum, bu...</td>\n",
       "      <td>NaN</td>\n",
       "      <td>All answers apply.\\n - Without a new vocabular...</td>\n",
       "      <td>NaN</td>\n",
       "      <td>NaN</td>\n",
       "      <td>NaN</td>\n",
       "    </tr>\n",
       "  </tbody>\n",
       "</table>\n",
       "</div>"
      ],
      "text/plain": [
       "   Id                                              Frage True_False  \\\n",
       "0   1  An abnormal termination of a Sprint is called ...        NaN   \n",
       "1   2  Development Team members volunteer to own a Sp...        NaN   \n",
       "2   3  Who is responsible for registering the work es...        NaN   \n",
       "3   4  When multiple teams are working together, each...      False   \n",
       "4   5  An organization has decided to adopt Scrum, bu...        NaN   \n",
       "\n",
       "                                        all_of_these  \\\n",
       "0                                                NaN   \n",
       "1                                                NaN   \n",
       "2                                                NaN   \n",
       "3                                                NaN   \n",
       "4  All answers apply.\\n - Without a new vocabular...   \n",
       "\n",
       "                                       1fach_Antwort 3-Fach_Antwort  \\\n",
       "0  When the Product Owner determines that it make...            NaN   \n",
       "1  Never. All Sprint Backlog Items are \"owned\" by...            NaN   \n",
       "2                              The Development Team.            NaN   \n",
       "3                                                NaN            NaN   \n",
       "4                                                NaN            NaN   \n",
       "\n",
       "  2-Fach_Antwort  \n",
       "0            NaN  \n",
       "1            NaN  \n",
       "2            NaN  \n",
       "3            NaN  \n",
       "4            NaN  "
      ]
     },
     "execution_count": 34,
     "metadata": {},
     "output_type": "execute_result"
    }
   ],
   "source": [
    "df=df.parse(\"Sheet1\")\n",
    "df.head()"
   ]
  },
  {
   "cell_type": "code",
   "execution_count": 30,
   "metadata": {},
   "outputs": [
    {
     "data": {
      "text/html": [
       "<div>\n",
       "<style>\n",
       "    .dataframe thead tr:only-child th {\n",
       "        text-align: right;\n",
       "    }\n",
       "\n",
       "    .dataframe thead th {\n",
       "        text-align: left;\n",
       "    }\n",
       "\n",
       "    .dataframe tbody tr th {\n",
       "        vertical-align: top;\n",
       "    }\n",
       "</style>\n",
       "<table border=\"1\" class=\"dataframe\">\n",
       "  <thead>\n",
       "    <tr style=\"text-align: right;\">\n",
       "      <th></th>\n",
       "      <th>Id</th>\n",
       "      <th>Frage</th>\n",
       "      <th>True_False</th>\n",
       "    </tr>\n",
       "  </thead>\n",
       "  <tbody>\n",
       "    <tr>\n",
       "      <th>0</th>\n",
       "      <td>1</td>\n",
       "      <td>An abnormal termination of a Sprint is called ...</td>\n",
       "      <td>NaN</td>\n",
       "    </tr>\n",
       "    <tr>\n",
       "      <th>1</th>\n",
       "      <td>2</td>\n",
       "      <td>Development Team members volunteer to own a Sp...</td>\n",
       "      <td>NaN</td>\n",
       "    </tr>\n",
       "    <tr>\n",
       "      <th>2</th>\n",
       "      <td>3</td>\n",
       "      <td>Who is responsible for registering the work es...</td>\n",
       "      <td>NaN</td>\n",
       "    </tr>\n",
       "    <tr>\n",
       "      <th>3</th>\n",
       "      <td>4</td>\n",
       "      <td>When multiple teams are working together, each...</td>\n",
       "      <td>False</td>\n",
       "    </tr>\n",
       "    <tr>\n",
       "      <th>4</th>\n",
       "      <td>5</td>\n",
       "      <td>An organization has decided to adopt Scrum, bu...</td>\n",
       "      <td>NaN</td>\n",
       "    </tr>\n",
       "  </tbody>\n",
       "</table>\n",
       "</div>"
      ],
      "text/plain": [
       "   Id                                              Frage True_False\n",
       "0   1  An abnormal termination of a Sprint is called ...        NaN\n",
       "1   2  Development Team members volunteer to own a Sp...        NaN\n",
       "2   3  Who is responsible for registering the work es...        NaN\n",
       "3   4  When multiple teams are working together, each...      False\n",
       "4   5  An organization has decided to adopt Scrum, bu...        NaN"
      ]
     },
     "execution_count": 30,
     "metadata": {},
     "output_type": "execute_result"
    }
   ],
   "source": [
    "df_T_F=df.iloc[:,0:3]\n",
    "df_T_F.head()"
   ]
  },
  {
   "cell_type": "code",
   "execution_count": 31,
   "metadata": {},
   "outputs": [
    {
     "data": {
      "text/html": [
       "<div>\n",
       "<style>\n",
       "    .dataframe thead tr:only-child th {\n",
       "        text-align: right;\n",
       "    }\n",
       "\n",
       "    .dataframe thead th {\n",
       "        text-align: left;\n",
       "    }\n",
       "\n",
       "    .dataframe tbody tr th {\n",
       "        vertical-align: top;\n",
       "    }\n",
       "</style>\n",
       "<table border=\"1\" class=\"dataframe\">\n",
       "  <thead>\n",
       "    <tr style=\"text-align: right;\">\n",
       "      <th></th>\n",
       "      <th>Id</th>\n",
       "      <th>Frage</th>\n",
       "      <th>True_False</th>\n",
       "    </tr>\n",
       "  </thead>\n",
       "  <tbody>\n",
       "    <tr>\n",
       "      <th>3</th>\n",
       "      <td>4</td>\n",
       "      <td>When multiple teams are working together, each...</td>\n",
       "      <td>False</td>\n",
       "    </tr>\n",
       "    <tr>\n",
       "      <th>9</th>\n",
       "      <td>10</td>\n",
       "      <td>It is mandatory that the product increment be ...</td>\n",
       "      <td>False</td>\n",
       "    </tr>\n",
       "    <tr>\n",
       "      <th>16</th>\n",
       "      <td>17</td>\n",
       "      <td>Scrum Master is a \"management\" position?</td>\n",
       "      <td>True</td>\n",
       "    </tr>\n",
       "    <tr>\n",
       "      <th>23</th>\n",
       "      <td>24</td>\n",
       "      <td>Scrum does not have a role called \"project man...</td>\n",
       "      <td>True</td>\n",
       "    </tr>\n",
       "    <tr>\n",
       "      <th>37</th>\n",
       "      <td>38</td>\n",
       "      <td>The Scrum Master should not allow the Product ...</td>\n",
       "      <td>False</td>\n",
       "    </tr>\n",
       "  </tbody>\n",
       "</table>\n",
       "</div>"
      ],
      "text/plain": [
       "    Id                                              Frage True_False\n",
       "3    4  When multiple teams are working together, each...      False\n",
       "9   10  It is mandatory that the product increment be ...      False\n",
       "16  17           Scrum Master is a \"management\" position?      True \n",
       "23  24  Scrum does not have a role called \"project man...       True\n",
       "37  38  The Scrum Master should not allow the Product ...      False"
      ]
     },
     "execution_count": 31,
     "metadata": {},
     "output_type": "execute_result"
    }
   ],
   "source": [
    "df_T_F=df_T_F.dropna(how=\"any\")\n",
    "df_T_F.head()"
   ]
  },
  {
   "cell_type": "code",
   "execution_count": 32,
   "metadata": {},
   "outputs": [],
   "source": [
    "df_T_F.to_excel(\"scrum-true_false.xlsx\",index=False)"
   ]
  },
  {
   "cell_type": "code",
   "execution_count": 37,
   "metadata": {},
   "outputs": [
    {
     "data": {
      "text/html": [
       "<div>\n",
       "<style>\n",
       "    .dataframe thead tr:only-child th {\n",
       "        text-align: right;\n",
       "    }\n",
       "\n",
       "    .dataframe thead th {\n",
       "        text-align: left;\n",
       "    }\n",
       "\n",
       "    .dataframe tbody tr th {\n",
       "        vertical-align: top;\n",
       "    }\n",
       "</style>\n",
       "<table border=\"1\" class=\"dataframe\">\n",
       "  <thead>\n",
       "    <tr style=\"text-align: right;\">\n",
       "      <th></th>\n",
       "      <th>Id</th>\n",
       "      <th>Frage</th>\n",
       "      <th>all_of_these</th>\n",
       "      <th>1fach_Antwort</th>\n",
       "      <th>3-Fach_Antwort</th>\n",
       "      <th>2-Fach_Antwort</th>\n",
       "    </tr>\n",
       "  </thead>\n",
       "  <tbody>\n",
       "    <tr>\n",
       "      <th>0</th>\n",
       "      <td>1</td>\n",
       "      <td>An abnormal termination of a Sprint is called ...</td>\n",
       "      <td>NaN</td>\n",
       "      <td>When the Product Owner determines that it make...</td>\n",
       "      <td>NaN</td>\n",
       "      <td>NaN</td>\n",
       "    </tr>\n",
       "    <tr>\n",
       "      <th>1</th>\n",
       "      <td>2</td>\n",
       "      <td>Development Team members volunteer to own a Sp...</td>\n",
       "      <td>NaN</td>\n",
       "      <td>Never. All Sprint Backlog Items are \"owned\" by...</td>\n",
       "      <td>NaN</td>\n",
       "      <td>NaN</td>\n",
       "    </tr>\n",
       "    <tr>\n",
       "      <th>2</th>\n",
       "      <td>3</td>\n",
       "      <td>Who is responsible for registering the work es...</td>\n",
       "      <td>NaN</td>\n",
       "      <td>The Development Team.</td>\n",
       "      <td>NaN</td>\n",
       "      <td>NaN</td>\n",
       "    </tr>\n",
       "    <tr>\n",
       "      <th>3</th>\n",
       "      <td>4</td>\n",
       "      <td>When multiple teams are working together, each...</td>\n",
       "      <td>NaN</td>\n",
       "      <td>NaN</td>\n",
       "      <td>NaN</td>\n",
       "      <td>NaN</td>\n",
       "    </tr>\n",
       "    <tr>\n",
       "      <th>4</th>\n",
       "      <td>5</td>\n",
       "      <td>An organization has decided to adopt Scrum, bu...</td>\n",
       "      <td>All answers apply.\\n - Without a new vocabular...</td>\n",
       "      <td>NaN</td>\n",
       "      <td>NaN</td>\n",
       "      <td>NaN</td>\n",
       "    </tr>\n",
       "  </tbody>\n",
       "</table>\n",
       "</div>"
      ],
      "text/plain": [
       "   Id                                              Frage  \\\n",
       "0   1  An abnormal termination of a Sprint is called ...   \n",
       "1   2  Development Team members volunteer to own a Sp...   \n",
       "2   3  Who is responsible for registering the work es...   \n",
       "3   4  When multiple teams are working together, each...   \n",
       "4   5  An organization has decided to adopt Scrum, bu...   \n",
       "\n",
       "                                        all_of_these  \\\n",
       "0                                                NaN   \n",
       "1                                                NaN   \n",
       "2                                                NaN   \n",
       "3                                                NaN   \n",
       "4  All answers apply.\\n - Without a new vocabular...   \n",
       "\n",
       "                                       1fach_Antwort 3-Fach_Antwort  \\\n",
       "0  When the Product Owner determines that it make...            NaN   \n",
       "1  Never. All Sprint Backlog Items are \"owned\" by...            NaN   \n",
       "2                              The Development Team.            NaN   \n",
       "3                                                NaN            NaN   \n",
       "4                                                NaN            NaN   \n",
       "\n",
       "  2-Fach_Antwort  \n",
       "0            NaN  \n",
       "1            NaN  \n",
       "2            NaN  \n",
       "3            NaN  \n",
       "4            NaN  "
      ]
     },
     "execution_count": 37,
     "metadata": {},
     "output_type": "execute_result"
    }
   ],
   "source": [
    "df_ot=df.iloc[:,[0,1,3,4,5,6]]\n",
    "df_ot.head()"
   ]
  },
  {
   "cell_type": "code",
   "execution_count": 38,
   "metadata": {
    "collapsed": true
   },
   "outputs": [],
   "source": [
    "df_ot.to_excel(\"scrum-other.xlsx\",index=False)"
   ]
  }
 ],
 "metadata": {
  "anaconda-cloud": {},
  "kernelspec": {
   "display_name": "Python 3",
   "language": "python",
   "name": "python3"
  },
  "language_info": {
   "codemirror_mode": {
    "name": "ipython",
    "version": 3
   },
   "file_extension": ".py",
   "mimetype": "text/x-python",
   "name": "python",
   "nbconvert_exporter": "python",
   "pygments_lexer": "ipython3",
   "version": "3.6.3"
  },
  "toc": {
   "colors": {
    "hover_highlight": "#DAA520",
    "running_highlight": "#FF0000",
    "selected_highlight": "#FFD700"
   },
   "moveMenuLeft": true,
   "nav_menu": {
    "height": "58px",
    "width": "252px"
   },
   "navigate_menu": true,
   "number_sections": true,
   "sideBar": true,
   "threshold": 4,
   "toc_cell": false,
   "toc_section_display": "block",
   "toc_window_display": false,
   "widenNotebook": false
  }
 },
 "nbformat": 4,
 "nbformat_minor": 2
}
