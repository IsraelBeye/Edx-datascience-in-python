{
 "cells": [
  {
   "cell_type": "markdown",
   "metadata": {},
   "source": [
    "# DAT210x - Programming with Python for DS"
   ]
  },
  {
   "cell_type": "markdown",
   "metadata": {},
   "source": [
    "## Module6- Lab1"
   ]
  },
  {
   "cell_type": "code",
   "execution_count": 1,
   "metadata": {},
   "outputs": [],
   "source": [
    "import matplotlib as mpl\n",
    "import matplotlib.pyplot as plt\n",
    "\n",
    "import pandas as pd\n",
    "import numpy as np \n",
    "import time"
   ]
  },
  {
   "cell_type": "markdown",
   "metadata": {
    "collapsed": true
   },
   "source": [
    "Feel free to adjust and experiment with these parameters after you have completed the lab:"
   ]
  },
  {
   "cell_type": "code",
   "execution_count": 2,
   "metadata": {},
   "outputs": [],
   "source": [
    "C = 1\n",
    "kernel = 'linear'"
   ]
  },
  {
   "cell_type": "code",
   "execution_count": 3,
   "metadata": {},
   "outputs": [],
   "source": [
    "# TODO: Change to 200000 once you get to Question#2\n",
    "iterations = 5000\n",
    "\n",
    "# You can set this to false if you want to draw the full square matrix:\n",
    "FAST_DRAW = True"
   ]
  },
  {
   "cell_type": "markdown",
   "metadata": {},
   "source": [
    "### Convenience Functions"
   ]
  },
  {
   "cell_type": "code",
   "execution_count": 20,
   "metadata": {},
   "outputs": [],
   "source": [
    "def drawPlots(model, X_train, X_test, y_train, y_test, wintitle='Figure 1'):\n",
    "    # You can use this to break any higher-dimensional space down,\n",
    "    # And view cross sections of it.\n",
    "\n",
    "    # If this line throws an error, use plt.style.use('ggplot') instead\n",
    "    mpl.style.use('ggplot') # Look Pretty\n",
    "\n",
    "    padding = 3\n",
    "    resolution = 0.5\n",
    "    max_2d_score = 0\n",
    "\n",
    "    y_colors = ['#ff0000', '#00ff00', '#0000ff']\n",
    "    my_cmap  = mpl.colors.ListedColormap(['#ffaaaa', '#aaffaa', '#aaaaff'])\n",
    "    colors   = [y_colors[i] for i in y_train]\n",
    "    num_columns = len(X_train.columns)\n",
    "\n",
    "    fig = plt.figure()\n",
    "    fig.canvas.set_window_title(wintitle)\n",
    "    fig.set_tight_layout(True)\n",
    "    \n",
    "    cnt = 0\n",
    "    for col in range(num_columns):\n",
    "        for row in range(num_columns):\n",
    "            \n",
    "            # Easy out\n",
    "            if FAST_DRAW and col > row:\n",
    "                cnt += 1\n",
    "                continue\n",
    "\n",
    "            ax = plt.subplot(num_columns, num_columns, cnt + 1)\n",
    "            plt.xticks(())\n",
    "            plt.yticks(())\n",
    "\n",
    "            # Intersection:\n",
    "            if col == row:\n",
    "                plt.text(0.5, 0.5, X_train.columns[row], verticalalignment='center', horizontalalignment='center', fontsize=12)\n",
    "                cnt += 1\n",
    "                continue\n",
    "\n",
    "\n",
    "            # Only select two features to display, then train the model\n",
    "            X_train_bag = X_train.iloc[:, [row,col]]\n",
    "            X_test_bag = X_test.iloc[:, [row,col]]\n",
    "            model.fit(X_train_bag, y_train)\n",
    "\n",
    "            # Create a mesh to plot in\n",
    "            x_min, x_max = X_train_bag.iloc[:, 0].min() - padding, X_train_bag.iloc[:, 0].max() + padding\n",
    "            y_min, y_max = X_train_bag.iloc[:, 1].min() - padding, X_train_bag.iloc[:, 1].max() + padding\n",
    "            xx, yy = np.meshgrid(np.arange(x_min, x_max, resolution),\n",
    "                                 np.arange(y_min, y_max, resolution))\n",
    "\n",
    "            # Plot Boundaries\n",
    "            plt.xlim(xx.min(), xx.max())\n",
    "            plt.ylim(yy.min(), yy.max())\n",
    "\n",
    "            # Prepare the contour\n",
    "            Z = model.predict(np.c_[xx.ravel(), yy.ravel()])\n",
    "            Z = Z.reshape(xx.shape)\n",
    "            plt.contourf(xx, yy, Z, cmap=my_cmap, alpha=0.8)\n",
    "            plt.scatter(X_train_bag.iloc[:, 0], X_train_bag.iloc[:, 1], c=colors, alpha=0.5)\n",
    "\n",
    "\n",
    "            score = round(model.score(X_test_bag, y_test) * 100, 3)\n",
    "            plt.text(0.5, 0, \"Score: {0}\".format(score), transform = ax.transAxes, horizontalalignment='center', fontsize=8)\n",
    "            max_2d_score = score if score > max_2d_score else max_2d_score\n",
    "\n",
    "            cnt += 1\n",
    "\n",
    "    print(\"Max 2D Score: \", max_2d_score)"
   ]
  },
  {
   "cell_type": "code",
   "execution_count": 5,
   "metadata": {},
   "outputs": [],
   "source": [
    "def benchmark(model, X_train, X_test, y_train, y_test, wintitle='Figure 1'):\n",
    "    print(wintitle + ' Results')\n",
    "    s = time.time()\n",
    "    \n",
    "    for i in range(iterations):\n",
    "        # TODO: train the classifier on the training data / labels:\n",
    "        \n",
    "        a = model.fit(X_train, y_train)\n",
    "        \n",
    "    print(\"{0} Iterations Training Time: \".format(iterations), time.time() - s)\n",
    "\n",
    "\n",
    "    s = time.time()\n",
    "    for i in range(iterations):\n",
    "        # TODO: score the classifier on the testing data / labels:\n",
    "        score = a.score(X_test, y_test)\n",
    "        \n",
    "    print(\"{0} Iterations Scoring Time: \".format(iterations), time.time() - s)\n",
    "    print(\"High-Dimensionality Score: \", round((score*100), 3))"
   ]
  },
  {
   "cell_type": "code",
   "execution_count": 7,
   "metadata": {
    "collapsed": true
   },
   "outputs": [],
   "source": []
  },
  {
   "cell_type": "markdown",
   "metadata": {},
   "source": [
    "### The Assignment"
   ]
  },
  {
   "cell_type": "markdown",
   "metadata": {},
   "source": [
    "Load up the wheat dataset into dataframe `X` and verify you did it properly. Indices shouldn't be doubled, nor should you have any headers with weird characters..."
   ]
  },
  {
   "cell_type": "code",
   "execution_count": 6,
   "metadata": {},
   "outputs": [
    {
     "name": "stdout",
     "output_type": "stream",
     "text": [
      "     area  perimeter  compactness  length  width  asymmetry  groove wheat_type\n",
      "id                                                                            \n",
      "0   15.26      14.84       0.8710   5.763  3.312      2.221   5.220       kama\n",
      "1   14.88      14.57       0.8811   5.554  3.333      1.018   4.956       kama\n",
      "2   14.29      14.09       0.9050   5.291  3.337      2.699   4.825       kama\n",
      "3   13.84      13.94       0.8955   5.324  3.379      2.259   4.805       kama\n",
      "4   16.14      14.99       0.9034   5.658  3.562      1.355   5.175       kama\n"
     ]
    }
   ],
   "source": [
    "X = pd.read_csv('Datasets/wheat.data', index_col = 0)\n",
    "print(X.head())\n"
   ]
  },
  {
   "cell_type": "code",
   "execution_count": 7,
   "metadata": {},
   "outputs": [
    {
     "data": {
      "text/html": [
       "<div>\n",
       "<style scoped>\n",
       "    .dataframe tbody tr th:only-of-type {\n",
       "        vertical-align: middle;\n",
       "    }\n",
       "\n",
       "    .dataframe tbody tr th {\n",
       "        vertical-align: top;\n",
       "    }\n",
       "\n",
       "    .dataframe thead th {\n",
       "        text-align: right;\n",
       "    }\n",
       "</style>\n",
       "<table border=\"1\" class=\"dataframe\">\n",
       "  <thead>\n",
       "    <tr style=\"text-align: right;\">\n",
       "      <th></th>\n",
       "      <th>area</th>\n",
       "      <th>perimeter</th>\n",
       "      <th>compactness</th>\n",
       "      <th>length</th>\n",
       "      <th>width</th>\n",
       "      <th>asymmetry</th>\n",
       "      <th>groove</th>\n",
       "      <th>wheat_type</th>\n",
       "    </tr>\n",
       "    <tr>\n",
       "      <th>id</th>\n",
       "      <th></th>\n",
       "      <th></th>\n",
       "      <th></th>\n",
       "      <th></th>\n",
       "      <th></th>\n",
       "      <th></th>\n",
       "      <th></th>\n",
       "      <th></th>\n",
       "    </tr>\n",
       "  </thead>\n",
       "  <tbody>\n",
       "    <tr>\n",
       "      <th>7</th>\n",
       "      <td>14.11</td>\n",
       "      <td>14.10</td>\n",
       "      <td>0.8911</td>\n",
       "      <td>5.4200</td>\n",
       "      <td>3.302</td>\n",
       "      <td>2.700</td>\n",
       "      <td>NaN</td>\n",
       "      <td>canadian</td>\n",
       "    </tr>\n",
       "    <tr>\n",
       "      <th>35</th>\n",
       "      <td>16.12</td>\n",
       "      <td>15.00</td>\n",
       "      <td>NaN</td>\n",
       "      <td>0.9000</td>\n",
       "      <td>NaN</td>\n",
       "      <td>5.709</td>\n",
       "      <td>3.485</td>\n",
       "      <td>canadian</td>\n",
       "    </tr>\n",
       "    <tr>\n",
       "      <th>60</th>\n",
       "      <td>11.42</td>\n",
       "      <td>12.86</td>\n",
       "      <td>0.8683</td>\n",
       "      <td>5.0080</td>\n",
       "      <td>2.850</td>\n",
       "      <td>2.700</td>\n",
       "      <td>NaN</td>\n",
       "      <td>canadian</td>\n",
       "    </tr>\n",
       "    <tr>\n",
       "      <th>135</th>\n",
       "      <td>15.38</td>\n",
       "      <td>14.66</td>\n",
       "      <td>0.8990</td>\n",
       "      <td>5.4770</td>\n",
       "      <td>3.465</td>\n",
       "      <td>3.600</td>\n",
       "      <td>NaN</td>\n",
       "      <td>canadian</td>\n",
       "    </tr>\n",
       "    <tr>\n",
       "      <th>169</th>\n",
       "      <td>11.24</td>\n",
       "      <td>13.00</td>\n",
       "      <td>NaN</td>\n",
       "      <td>0.8359</td>\n",
       "      <td>5.090</td>\n",
       "      <td>2.715</td>\n",
       "      <td>3.521</td>\n",
       "      <td>canadian</td>\n",
       "    </tr>\n",
       "    <tr>\n",
       "      <th>170</th>\n",
       "      <td>11.02</td>\n",
       "      <td>13.00</td>\n",
       "      <td>NaN</td>\n",
       "      <td>0.8189</td>\n",
       "      <td>5.325</td>\n",
       "      <td>2.701</td>\n",
       "      <td>6.735</td>\n",
       "      <td>canadian</td>\n",
       "    </tr>\n",
       "    <tr>\n",
       "      <th>201</th>\n",
       "      <td>12.67</td>\n",
       "      <td>13.32</td>\n",
       "      <td>0.8977</td>\n",
       "      <td>4.9840</td>\n",
       "      <td>3.135</td>\n",
       "      <td>2.300</td>\n",
       "      <td>NaN</td>\n",
       "      <td>canadian</td>\n",
       "    </tr>\n",
       "  </tbody>\n",
       "</table>\n",
       "</div>"
      ],
      "text/plain": [
       "      area  perimeter  compactness  length  width  asymmetry  groove  \\\n",
       "id                                                                     \n",
       "7    14.11      14.10       0.8911  5.4200  3.302      2.700     NaN   \n",
       "35   16.12      15.00          NaN  0.9000    NaN      5.709   3.485   \n",
       "60   11.42      12.86       0.8683  5.0080  2.850      2.700     NaN   \n",
       "135  15.38      14.66       0.8990  5.4770  3.465      3.600     NaN   \n",
       "169  11.24      13.00          NaN  0.8359  5.090      2.715   3.521   \n",
       "170  11.02      13.00          NaN  0.8189  5.325      2.701   6.735   \n",
       "201  12.67      13.32       0.8977  4.9840  3.135      2.300     NaN   \n",
       "\n",
       "    wheat_type  \n",
       "id              \n",
       "7     canadian  \n",
       "35    canadian  \n",
       "60    canadian  \n",
       "135   canadian  \n",
       "169   canadian  \n",
       "170   canadian  \n",
       "201   canadian  "
      ]
     },
     "execution_count": 7,
     "metadata": {},
     "output_type": "execute_result"
    }
   ],
   "source": [
    "# An easy way to show which rows have nans in them:\n",
    "X[pd.isnull(X).any(axis=1)]"
   ]
  },
  {
   "cell_type": "markdown",
   "metadata": {},
   "source": [
    "Go ahead and drop any row with a nan:"
   ]
  },
  {
   "cell_type": "code",
   "execution_count": 8,
   "metadata": {},
   "outputs": [],
   "source": [
    "X.dropna(axis = 0, how = 'any', inplace = True)"
   ]
  },
  {
   "cell_type": "markdown",
   "metadata": {},
   "source": [
    "In the future, you might try setting the nan values to the mean value of that column, the mean should only be calculated for the specific class rather than across all classes, now that you have the labels."
   ]
  },
  {
   "cell_type": "markdown",
   "metadata": {},
   "source": [
    "Copy the labels out of the dataframe into variable `y`, then remove them from `X`.\n",
    "\n",
    "Encode the labels, using the `.map()` trick we showed you in Module 5, such that `canadian:0`, `kama:1`, and `rosa:2`."
   ]
  },
  {
   "cell_type": "code",
   "execution_count": 9,
   "metadata": {},
   "outputs": [
    {
     "name": "stdout",
     "output_type": "stream",
     "text": [
      "     area  perimeter  compactness  length  width  asymmetry  groove\n",
      "id                                                                 \n",
      "0   15.26      14.84       0.8710   5.763  3.312      2.221   5.220\n",
      "1   14.88      14.57       0.8811   5.554  3.333      1.018   4.956\n",
      "2   14.29      14.09       0.9050   5.291  3.337      2.699   4.825\n",
      "3   13.84      13.94       0.8955   5.324  3.379      2.259   4.805\n",
      "4   16.14      14.99       0.9034   5.658  3.562      1.355   5.175\n",
      "5   14.38      14.21       0.8951   5.386  3.312      2.462   4.956\n"
     ]
    }
   ],
   "source": [
    "y = X.wheat_type\n",
    "X.drop('wheat_type', axis = 1, inplace = True)\n",
    "print(X.head(6))\n",
    "y = y.map({'canadian': 0, 'kama': 1, 'rosa': 2})"
   ]
  },
  {
   "cell_type": "markdown",
   "metadata": {},
   "source": [
    "Split your data into a `test` and `train` set. Your `test` size should be 30% with `random_state` 7. Please use variable names: `X_train`, `X_test`, `y_train`, and `y_test`:"
   ]
  },
  {
   "cell_type": "code",
   "execution_count": 11,
   "metadata": {},
   "outputs": [],
   "source": [
    "import sklearn"
   ]
  },
  {
   "cell_type": "code",
   "execution_count": 14,
   "metadata": {},
   "outputs": [],
   "source": [
    "from sklearn.model_selection import train_test_split\n",
    "X_train, X_test, y_train, y_test = train_test_split(X, y, test_size = 0.3, random_state = 7)\n",
    "\n",
    "#\n",
    "# TODO: Create an SVC classifier named svc\n",
    "# Use a linear kernel, and set the C value to C\n",
    "#\n",
    "# .. your code here ..\n"
   ]
  },
  {
   "cell_type": "markdown",
   "metadata": {},
   "source": [
    "Create an SVC classifier named `svc` and use a linear kernel. You already have `C` defined at the top of the lab, so just set `C=C`."
   ]
  },
  {
   "cell_type": "code",
   "execution_count": 13,
   "metadata": {},
   "outputs": [],
   "source": [
    "from sklearn.svm import SVC\n",
    "svc = SVC(C = C, kernel = kernel)"
   ]
  },
  {
   "cell_type": "markdown",
   "metadata": {},
   "source": [
    "Create an KNeighbors classifier named `knn` and set the neighbor count to `5`:"
   ]
  },
  {
   "cell_type": "code",
   "execution_count": 15,
   "metadata": {},
   "outputs": [],
   "source": [
    "from sklearn.neighbors import KNeighborsClassifier\n",
    "knn = KNeighborsClassifier(n_neighbors = 5)"
   ]
  },
  {
   "cell_type": "markdown",
   "metadata": {},
   "source": [
    "### Fire it Up:"
   ]
  },
  {
   "cell_type": "code",
   "execution_count": 22,
   "metadata": {},
   "outputs": [
    {
     "name": "stdout",
     "output_type": "stream",
     "text": [
      "KNeighbors Results\n",
      "5000 Iterations Training Time:  2.4285707473754883\n",
      "5000 Iterations Scoring Time:  8.276288032531738\n",
      "High-Dimensionality Score:  83.607\n",
      "Max 2D Score:  90.164\n"
     ]
    },
    {
     "name": "stderr",
     "output_type": "stream",
     "text": [
      "C:\\Users\\IsraelBeyene\\Anaconda3\\lib\\site-packages\\matplotlib\\figure.py:2369: UserWarning: This figure includes Axes that are not compatible with tight_layout, so results might be incorrect.\n",
      "  warnings.warn(\"This figure includes Axes that are not compatible \"\n"
     ]
    },
    {
     "data": {
      "image/png": "[encoded data removed]",
      "text/plain": [
       "<Figure size 432x288 with 28 Axes>"
      ]
     },
     "metadata": {},
     "output_type": "display_data"
    }
   ],
   "source": [
    "benchmark(knn, X_train, X_test, y_train, y_test, 'KNeighbors')\n",
    "drawPlots(knn, X_train, X_test, y_train, y_test, 'KNeighbors')"
   ]
  },
  {
   "cell_type": "code",
   "execution_count": 19,
   "metadata": {},
   "outputs": [
    {
     "data": {
      "text/html": [
       "<div>\n",
       "<style scoped>\n",
       "    .dataframe tbody tr th:only-of-type {\n",
       "        vertical-align: middle;\n",
       "    }\n",
       "\n",
       "    .dataframe tbody tr th {\n",
       "        vertical-align: top;\n",
       "    }\n",
       "\n",
       "    .dataframe thead th {\n",
       "        text-align: right;\n",
       "    }\n",
       "</style>\n",
       "<table border=\"1\" class=\"dataframe\">\n",
       "  <thead>\n",
       "    <tr style=\"text-align: right;\">\n",
       "      <th></th>\n",
       "      <th>area</th>\n",
       "      <th>perimeter</th>\n",
       "      <th>compactness</th>\n",
       "      <th>length</th>\n",
       "      <th>width</th>\n",
       "      <th>asymmetry</th>\n",
       "      <th>groove</th>\n",
       "    </tr>\n",
       "    <tr>\n",
       "      <th>id</th>\n",
       "      <th></th>\n",
       "      <th></th>\n",
       "      <th></th>\n",
       "      <th></th>\n",
       "      <th></th>\n",
       "      <th></th>\n",
       "      <th></th>\n",
       "    </tr>\n",
       "  </thead>\n",
       "  <tbody>\n",
       "    <tr>\n",
       "      <th>61</th>\n",
       "      <td>11.23</td>\n",
       "      <td>12.63</td>\n",
       "      <td>0.8840</td>\n",
       "      <td>4.902</td>\n",
       "      <td>2.879</td>\n",
       "      <td>2.269</td>\n",
       "      <td>4.703</td>\n",
       "    </tr>\n",
       "    <tr>\n",
       "      <th>116</th>\n",
       "      <td>18.96</td>\n",
       "      <td>16.20</td>\n",
       "      <td>0.9077</td>\n",
       "      <td>6.051</td>\n",
       "      <td>3.897</td>\n",
       "      <td>4.334</td>\n",
       "      <td>5.750</td>\n",
       "    </tr>\n",
       "    <tr>\n",
       "      <th>154</th>\n",
       "      <td>11.36</td>\n",
       "      <td>13.05</td>\n",
       "      <td>0.8382</td>\n",
       "      <td>5.175</td>\n",
       "      <td>2.755</td>\n",
       "      <td>4.048</td>\n",
       "      <td>5.263</td>\n",
       "    </tr>\n",
       "    <tr>\n",
       "      <th>38</th>\n",
       "      <td>14.80</td>\n",
       "      <td>14.52</td>\n",
       "      <td>0.8823</td>\n",
       "      <td>5.656</td>\n",
       "      <td>3.288</td>\n",
       "      <td>3.112</td>\n",
       "      <td>5.309</td>\n",
       "    </tr>\n",
       "    <tr>\n",
       "      <th>194</th>\n",
       "      <td>12.11</td>\n",
       "      <td>13.27</td>\n",
       "      <td>0.8639</td>\n",
       "      <td>5.236</td>\n",
       "      <td>2.975</td>\n",
       "      <td>4.132</td>\n",
       "      <td>5.012</td>\n",
       "    </tr>\n",
       "    <tr>\n",
       "      <th>...</th>\n",
       "      <td>...</td>\n",
       "      <td>...</td>\n",
       "      <td>...</td>\n",
       "      <td>...</td>\n",
       "      <td>...</td>\n",
       "      <td>...</td>\n",
       "      <td>...</td>\n",
       "    </tr>\n",
       "    <tr>\n",
       "      <th>155</th>\n",
       "      <td>11.19</td>\n",
       "      <td>13.05</td>\n",
       "      <td>0.8253</td>\n",
       "      <td>5.250</td>\n",
       "      <td>2.675</td>\n",
       "      <td>5.813</td>\n",
       "      <td>5.219</td>\n",
       "    </tr>\n",
       "    <tr>\n",
       "      <th>70</th>\n",
       "      <td>17.63</td>\n",
       "      <td>15.98</td>\n",
       "      <td>0.8673</td>\n",
       "      <td>6.191</td>\n",
       "      <td>3.561</td>\n",
       "      <td>4.076</td>\n",
       "      <td>6.060</td>\n",
       "    </tr>\n",
       "    <tr>\n",
       "      <th>26</th>\n",
       "      <td>13.02</td>\n",
       "      <td>13.76</td>\n",
       "      <td>0.8641</td>\n",
       "      <td>5.395</td>\n",
       "      <td>3.026</td>\n",
       "      <td>3.373</td>\n",
       "      <td>4.825</td>\n",
       "    </tr>\n",
       "    <tr>\n",
       "      <th>203</th>\n",
       "      <td>12.70</td>\n",
       "      <td>13.41</td>\n",
       "      <td>0.8874</td>\n",
       "      <td>5.183</td>\n",
       "      <td>3.091</td>\n",
       "      <td>8.456</td>\n",
       "      <td>5.000</td>\n",
       "    </tr>\n",
       "    <tr>\n",
       "      <th>181</th>\n",
       "      <td>12.46</td>\n",
       "      <td>13.41</td>\n",
       "      <td>0.8706</td>\n",
       "      <td>5.236</td>\n",
       "      <td>3.017</td>\n",
       "      <td>4.987</td>\n",
       "      <td>5.147</td>\n",
       "    </tr>\n",
       "  </tbody>\n",
       "</table>\n",
       "<p>142 rows × 7 columns</p>\n",
       "</div>"
      ],
      "text/plain": [
       "      area  perimeter  compactness  length  width  asymmetry  groove\n",
       "id                                                                  \n",
       "61   11.23      12.63       0.8840   4.902  2.879      2.269   4.703\n",
       "116  18.96      16.20       0.9077   6.051  3.897      4.334   5.750\n",
       "154  11.36      13.05       0.8382   5.175  2.755      4.048   5.263\n",
       "38   14.80      14.52       0.8823   5.656  3.288      3.112   5.309\n",
       "194  12.11      13.27       0.8639   5.236  2.975      4.132   5.012\n",
       "..     ...        ...          ...     ...    ...        ...     ...\n",
       "155  11.19      13.05       0.8253   5.250  2.675      5.813   5.219\n",
       "70   17.63      15.98       0.8673   6.191  3.561      4.076   6.060\n",
       "26   13.02      13.76       0.8641   5.395  3.026      3.373   4.825\n",
       "203  12.70      13.41       0.8874   5.183  3.091      8.456   5.000\n",
       "181  12.46      13.41       0.8706   5.236  3.017      4.987   5.147\n",
       "\n",
       "[142 rows x 7 columns]"
      ]
     },
     "execution_count": 19,
     "metadata": {},
     "output_type": "execute_result"
    }
   ],
   "source": [
    "X_train"
   ]
  },
  {
   "cell_type": "code",
   "execution_count": 23,
   "metadata": {},
   "outputs": [
    {
     "name": "stdout",
     "output_type": "stream",
     "text": [
      "SVC Results\n",
      "5000 Iterations Training Time:  3.692995548248291\n",
      "5000 Iterations Scoring Time:  2.2658073902130127\n",
      "High-Dimensionality Score:  86.885\n",
      "Max 2D Score:  93.443\n"
     ]
    },
    {
     "name": "stderr",
     "output_type": "stream",
     "text": [
      "C:\\Users\\IsraelBeyene\\Anaconda3\\lib\\site-packages\\matplotlib\\figure.py:2369: UserWarning: This figure includes Axes that are not compatible with tight_layout, so results might be incorrect.\n",
      "  warnings.warn(\"This figure includes Axes that are not compatible \"\n"
     ]
    },
    {
     "data": {
      "image/png": "[encoded data removed]",
      "text/plain": [
       "<Figure size 432x288 with 28 Axes>"
      ]
     },
     "metadata": {},
     "output_type": "display_data"
    }
   ],
   "source": [
    "benchmark(svc, X_train, X_test, y_train, y_test, 'SVC')\n",
    "drawPlots(svc, X_train, X_test, y_train, y_test, 'SVC')"
   ]
  },
  {
   "cell_type": "code",
   "execution_count": 24,
   "metadata": {},
   "outputs": [],
   "source": [
    "plt.show()"
   ]
  },
  {
   "cell_type": "markdown",
   "metadata": {},
   "source": [
    "### Bonus:"
   ]
  },
  {
   "cell_type": "markdown",
   "metadata": {},
   "source": [
    "After submitting your answers, mess around with the gamma, kernel, and C values."
   ]
  },
  {
   "cell_type": "code",
   "execution_count": null,
   "metadata": {
    "collapsed": true
   },
   "outputs": [],
   "source": []
  }
 ],
 "metadata": {
  "anaconda-cloud": {},
  "kernelspec": {
   "display_name": "Python 3",
   "language": "python",
   "name": "python3"
  },
  "language_info": {
   "codemirror_mode": {
    "name": "ipython",
    "version": 3
   },
   "file_extension": ".py",
   "mimetype": "text/x-python",
   "name": "python",
   "nbconvert_exporter": "python",
   "pygments_lexer": "ipython3",
   "version": "3.7.3"
  },
  "toc": {
   "colors": {
    "hover_highlight": "#DAA520",
    "running_highlight": "#FF0000",
    "selected_highlight": "#FFD700"
   },
   "moveMenuLeft": true,
   "nav_menu": {
    "height": "58px",
    "width": "252px"
   },
   "navigate_menu": true,
   "number_sections": true,
   "sideBar": true,
   "threshold": 4,
   "toc_cell": false,
   "toc_section_display": "block",
   "toc_window_display": false,
   "widenNotebook": false
  }
 },
 "nbformat": 4,
 "nbformat_minor": 2
}
